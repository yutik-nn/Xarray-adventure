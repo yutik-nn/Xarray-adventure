{
 "cells": [
  {
   "cell_type": "markdown",
   "id": "8c4868f1-ac75-4906-8464-732827ade77e",
   "metadata": {},
   "source": [
    "# Wind Stress Curl Calculation"
   ]
  },
  {
   "cell_type": "code",
   "execution_count": null,
   "id": "308bbe9f-2c79-4c36-8ad5-fbad32733552",
   "metadata": {},
   "outputs": [],
   "source": []
  }
 ],
 "metadata": {
  "kernelspec": {
   "display_name": "Python 3 (ipykernel)",
   "language": "python",
   "name": "python3"
  },
  "language_info": {
   "codemirror_mode": {
    "name": "ipython",
    "version": 3
   },
   "file_extension": ".py",
   "mimetype": "text/x-python",
   "name": "python",
   "nbconvert_exporter": "python",
   "pygments_lexer": "ipython3",
   "version": "3.9.16"
  }
 },
 "nbformat": 4,
 "nbformat_minor": 5
}
