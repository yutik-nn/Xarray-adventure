{
 "cells": [
  {
   "cell_type": "markdown",
   "id": "5949fea2-d76e-4792-a91c-49d2717f660e",
   "metadata": {},
   "source": [
    "# GLORYS12 Data"
   ]
  },
  {
   "cell_type": "code",
   "execution_count": null,
   "id": "066ba61d-e7fc-4f59-bdf2-2d598af66321",
   "metadata": {},
   "outputs": [],
   "source": []
  }
 ],
 "metadata": {
  "kernelspec": {
   "display_name": "Python 3 (ipykernel)",
   "language": "python",
   "name": "python3"
  },
  "language_info": {
   "codemirror_mode": {
    "name": "ipython",
    "version": 3
   },
   "file_extension": ".py",
   "mimetype": "text/x-python",
   "name": "python",
   "nbconvert_exporter": "python",
   "pygments_lexer": "ipython3",
   "version": "3.9.16"
  }
 },
 "nbformat": 4,
 "nbformat_minor": 5
}