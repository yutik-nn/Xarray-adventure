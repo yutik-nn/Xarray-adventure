{
 "cells": [
  {
   "cell_type": "markdown",
   "id": "962e8d52-4d01-40d0-bc66-24562012f957",
   "metadata": {},
   "source": [
    "# Coherence Analysis"
   ]
  },
  {
   "cell_type": "code",
   "execution_count": null,
   "id": "16e33168-88da-48b6-b09b-174a086342b1",
   "metadata": {},
   "outputs": [],
   "source": []
  }
 ],
 "metadata": {
  "kernelspec": {
   "display_name": "Python 3 (ipykernel)",
   "language": "python",
   "name": "python3"
  },
  "language_info": {
   "codemirror_mode": {
    "name": "ipython",
    "version": 3
   },
   "file_extension": ".py",
   "mimetype": "text/x-python",
   "name": "python",
   "nbconvert_exporter": "python",
   "pygments_lexer": "ipython3",
   "version": "3.9.16"
  }
 },
 "nbformat": 4,
 "nbformat_minor": 5
}