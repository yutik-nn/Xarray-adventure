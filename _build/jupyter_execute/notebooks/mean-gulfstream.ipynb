{
 "cells": [
  {
   "cell_type": "markdown",
   "id": "a71219b8-f8b0-45f5-a682-e70c8ea42e20",
   "metadata": {},
   "source": [
    "# Defining the mean position of the Gulfstream"
   ]
  },
  {
   "cell_type": "code",
   "execution_count": null,
   "id": "fe0f182a-f822-4254-ad64-182b9f74f850",
   "metadata": {},
   "outputs": [],
   "source": []
  }
 ],
 "metadata": {
  "kernelspec": {
   "display_name": "Python 3 (ipykernel)",
   "language": "python",
   "name": "python3"
  },
  "language_info": {
   "codemirror_mode": {
    "name": "ipython",
    "version": 3
   },
   "file_extension": ".py",
   "mimetype": "text/x-python",
   "name": "python",
   "nbconvert_exporter": "python",
   "pygments_lexer": "ipython3",
   "version": "3.9.16"
  }
 },
 "nbformat": 4,
 "nbformat_minor": 5
}