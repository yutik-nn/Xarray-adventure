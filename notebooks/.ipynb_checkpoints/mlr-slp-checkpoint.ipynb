{
 "cells": [
  {
   "cell_type": "markdown",
   "id": "020d26b0-f5b1-4c65-82c4-b43abbd12a1f",
   "metadata": {},
   "source": [
    "# SSH regressed onto Principal Components"
   ]
  },
  {
   "cell_type": "code",
   "execution_count": null,
   "id": "cde368ec-c699-472a-bea4-6cd849d3fcdd",
   "metadata": {},
   "outputs": [],
   "source": []
  }
 ],
 "metadata": {
  "kernelspec": {
   "display_name": "Python 3 (ipykernel)",
   "language": "python",
   "name": "python3"
  },
  "language_info": {
   "codemirror_mode": {
    "name": "ipython",
    "version": 3
   },
   "file_extension": ".py",
   "mimetype": "text/x-python",
   "name": "python",
   "nbconvert_exporter": "python",
   "pygments_lexer": "ipython3",
   "version": "3.9.16"
  }
 },
 "nbformat": 4,
 "nbformat_minor": 5
}
