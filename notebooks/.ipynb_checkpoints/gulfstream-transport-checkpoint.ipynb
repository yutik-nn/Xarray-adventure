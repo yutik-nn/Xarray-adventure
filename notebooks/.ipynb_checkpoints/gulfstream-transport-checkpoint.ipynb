{
 "cells": [
  {
   "cell_type": "markdown",
   "id": "b185fb8e-3dd0-4686-aef5-c2fd0d55c7d2",
   "metadata": {},
   "source": [
    "# Gulfstream Transport"
   ]
  },
  {
   "cell_type": "code",
   "execution_count": null,
   "id": "6226a17b-2e56-4bfb-91b4-36c898bae023",
   "metadata": {},
   "outputs": [],
   "source": []
  }
 ],
 "metadata": {
  "kernelspec": {
   "display_name": "Python 3 (ipykernel)",
   "language": "python",
   "name": "python3"
  },
  "language_info": {
   "codemirror_mode": {
    "name": "ipython",
    "version": 3
   },
   "file_extension": ".py",
   "mimetype": "text/x-python",
   "name": "python",
   "nbconvert_exporter": "python",
   "pygments_lexer": "ipython3",
   "version": "3.9.16"
  }
 },
 "nbformat": 4,
 "nbformat_minor": 5
}
