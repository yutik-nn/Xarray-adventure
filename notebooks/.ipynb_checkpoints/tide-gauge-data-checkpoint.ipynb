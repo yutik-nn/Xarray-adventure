{
 "cells": [
  {
   "cell_type": "markdown",
   "id": "ea2e3b1b-c094-4262-a607-e04bdc50911d",
   "metadata": {},
   "source": [
    "# Tide Gauge Data Retrieval and Processing"
   ]
  },
  {
   "cell_type": "code",
   "execution_count": null,
   "id": "76e9f4ac-081e-4051-a8ba-6939b13eb781",
   "metadata": {},
   "outputs": [],
   "source": []
  }
 ],
 "metadata": {
  "kernelspec": {
   "display_name": "Python 3 (ipykernel)",
   "language": "python",
   "name": "python3"
  },
  "language_info": {
   "codemirror_mode": {
    "name": "ipython",
    "version": 3
   },
   "file_extension": ".py",
   "mimetype": "text/x-python",
   "name": "python",
   "nbconvert_exporter": "python",
   "pygments_lexer": "ipython3",
   "version": "3.9.16"
  }
 },
 "nbformat": 4,
 "nbformat_minor": 5
}
