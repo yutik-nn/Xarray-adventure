{
 "cells": [
  {
   "cell_type": "markdown",
   "id": "8e944eba-9f44-4cf8-a7eb-ba536624fa22",
   "metadata": {},
   "source": [
    "# SSH regressed onto Principal Components"
   ]
  },
  {
   "cell_type": "code",
   "execution_count": null,
   "id": "64a3c16c-d998-428f-b3b0-6e2897d7ca90",
   "metadata": {},
   "outputs": [],
   "source": []
  }
 ],
 "metadata": {
  "kernelspec": {
   "display_name": "Python 3 (ipykernel)",
   "language": "python",
   "name": "python3"
  },
  "language_info": {
   "codemirror_mode": {
    "name": "ipython",
    "version": 3
   },
   "file_extension": ".py",
   "mimetype": "text/x-python",
   "name": "python",
   "nbconvert_exporter": "python",
   "pygments_lexer": "ipython3",
   "version": "3.9.16"
  }
 },
 "nbformat": 4,
 "nbformat_minor": 5
}
